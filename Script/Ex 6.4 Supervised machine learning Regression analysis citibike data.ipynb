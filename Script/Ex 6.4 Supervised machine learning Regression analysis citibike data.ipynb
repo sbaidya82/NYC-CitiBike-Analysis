{
 "cells": [
  {
   "cell_type": "markdown",
   "id": "9b2bb6b5-7f8f-4752-b7ac-7a5084d001c9",
   "metadata": {},
   "source": [
    "# Import Libtraries"
   ]
  },
  {
   "cell_type": "code",
   "execution_count": 694,
   "id": "926cd293-35bf-4a3d-b9b6-dfb70e53fda1",
   "metadata": {},
   "outputs": [],
   "source": [
    "import pandas as pd\n",
    "import numpy as np\n",
    "import seaborn as sns\n",
    "import matplotlib\n",
    "import matplotlib.pyplot as plt\n",
    "import os\n",
    "import sklearn\n",
    "from sklearn.model_selection import train_test_split\n",
    "from sklearn.linear_model import LinearRegression\n",
    "from sklearn.metrics import mean_squared_error,r2_score"
   ]
  },
  {
   "cell_type": "code",
   "execution_count": 695,
   "id": "994a9f99-e9f2-4a37-8721-3b6ececaa2ba",
   "metadata": {},
   "outputs": [],
   "source": [
    "path=r\"C:\\Users\\baidy\\Downloads\\citibike_cleaned.csv\""
   ]
  },
  {
   "cell_type": "code",
   "execution_count": 696,
   "id": "978f6d44-7d3a-48cf-8693-a7074c51be0f",
   "metadata": {},
   "outputs": [
    {
     "name": "stdout",
     "output_type": "stream",
     "text": [
      "file loaded succesfully\n"
     ]
    }
   ],
   "source": [
    "# Import Data\n",
    "if os.path.exists(path):\n",
    "    df=pd.read_csv(path)\n",
    "    print(\"file loaded succesfully\")\n",
    "else:\n",
    "    print(f\"file not found:{path}\")\n",
    "    print (\"please check if the file path is correct\")"
   ]
  },
  {
   "cell_type": "markdown",
   "id": "febc8a86-153e-447c-b6ef-4f4ce5114a01",
   "metadata": {},
   "source": [
    "# Data Cleaning"
   ]
  },
  {
   "cell_type": "code",
   "execution_count": 698,
   "id": "9808d78c-1b3f-4951-9308-360d267ab5c8",
   "metadata": {},
   "outputs": [
    {
     "data": {
      "text/plain": [
       "Index(['trip_id', 'bike_id', 'weekday', 'start_hour', 'start_time',\n",
       "       'start_station_id', 'start_station_name', 'start_station_latitude',\n",
       "       'start_station_longitude', 'end_time', 'end_station_id',\n",
       "       'end_station_name', 'end_station_latitude', 'end_station_longitude',\n",
       "       'trip_duration', 'subscriber', 'birth_year', 'gender', 'age',\n",
       "       'gender_desc'],\n",
       "      dtype='object')"
      ]
     },
     "execution_count": 698,
     "metadata": {},
     "output_type": "execute_result"
    }
   ],
   "source": [
    "df.columns"
   ]
  },
  {
   "cell_type": "code",
   "execution_count": 699,
   "id": "54a08e8b-cff3-4bb3-99ac-1c20dec90d51",
   "metadata": {},
   "outputs": [
    {
     "data": {
      "text/html": [
       "<div>\n",
       "<style scoped>\n",
       "    .dataframe tbody tr th:only-of-type {\n",
       "        vertical-align: middle;\n",
       "    }\n",
       "\n",
       "    .dataframe tbody tr th {\n",
       "        vertical-align: top;\n",
       "    }\n",
       "\n",
       "    .dataframe thead th {\n",
       "        text-align: right;\n",
       "    }\n",
       "</style>\n",
       "<table border=\"1\" class=\"dataframe\">\n",
       "  <thead>\n",
       "    <tr style=\"text-align: right;\">\n",
       "      <th></th>\n",
       "      <th>trip_id</th>\n",
       "      <th>bike_id</th>\n",
       "      <th>weekday</th>\n",
       "      <th>start_hour</th>\n",
       "      <th>start_time</th>\n",
       "      <th>start_station_id</th>\n",
       "      <th>start_station_name</th>\n",
       "      <th>start_station_latitude</th>\n",
       "      <th>start_station_longitude</th>\n",
       "      <th>end_time</th>\n",
       "      <th>end_station_id</th>\n",
       "      <th>end_station_name</th>\n",
       "      <th>end_station_latitude</th>\n",
       "      <th>end_station_longitude</th>\n",
       "      <th>trip_duration</th>\n",
       "      <th>subscriber</th>\n",
       "      <th>birth_year</th>\n",
       "      <th>gender</th>\n",
       "      <th>age</th>\n",
       "      <th>gender_desc</th>\n",
       "    </tr>\n",
       "  </thead>\n",
       "  <tbody>\n",
       "    <tr>\n",
       "      <th>0</th>\n",
       "      <td>LnQzQk</td>\n",
       "      <td>16013</td>\n",
       "      <td>Mon</td>\n",
       "      <td>18</td>\n",
       "      <td>&lt;function to_datetime at 0x00000198E628EFC0&gt;</td>\n",
       "      <td>523</td>\n",
       "      <td>W 38 St &amp; 8 Ave</td>\n",
       "      <td>40.754666</td>\n",
       "      <td>-73.991382</td>\n",
       "      <td>&lt;function to_datetime at 0x00000198E628EFC0&gt;</td>\n",
       "      <td>334</td>\n",
       "      <td>W 20 St &amp; 7 Ave</td>\n",
       "      <td>40.742388</td>\n",
       "      <td>-73.997262</td>\n",
       "      <td>993</td>\n",
       "      <td>Subscriber</td>\n",
       "      <td>1968.0</td>\n",
       "      <td>2</td>\n",
       "      <td>50.0</td>\n",
       "      <td>Female</td>\n",
       "    </tr>\n",
       "    <tr>\n",
       "      <th>1</th>\n",
       "      <td>IL9boN</td>\n",
       "      <td>15230</td>\n",
       "      <td>Thu</td>\n",
       "      <td>18</td>\n",
       "      <td>&lt;function to_datetime at 0x00000198E628EFC0&gt;</td>\n",
       "      <td>257</td>\n",
       "      <td>Lispenard St &amp; Broadway</td>\n",
       "      <td>40.719392</td>\n",
       "      <td>-74.002472</td>\n",
       "      <td>&lt;function to_datetime at 0x00000198E628EFC0&gt;</td>\n",
       "      <td>236</td>\n",
       "      <td>St Marks Pl &amp; 2 Ave</td>\n",
       "      <td>40.728419</td>\n",
       "      <td>-73.987140</td>\n",
       "      <td>581</td>\n",
       "      <td>Subscriber</td>\n",
       "      <td>1983.0</td>\n",
       "      <td>1</td>\n",
       "      <td>35.0</td>\n",
       "      <td>Male</td>\n",
       "    </tr>\n",
       "    <tr>\n",
       "      <th>2</th>\n",
       "      <td>46clGB</td>\n",
       "      <td>17942</td>\n",
       "      <td>Wed</td>\n",
       "      <td>19</td>\n",
       "      <td>&lt;function to_datetime at 0x00000198E628EFC0&gt;</td>\n",
       "      <td>479</td>\n",
       "      <td>9 Ave &amp; W 45 St</td>\n",
       "      <td>40.760193</td>\n",
       "      <td>-73.991255</td>\n",
       "      <td>&lt;function to_datetime at 0x00000198E628EFC0&gt;</td>\n",
       "      <td>513</td>\n",
       "      <td>W 56 St &amp; 10 Ave</td>\n",
       "      <td>40.768254</td>\n",
       "      <td>-73.988639</td>\n",
       "      <td>361</td>\n",
       "      <td>Subscriber</td>\n",
       "      <td>1989.0</td>\n",
       "      <td>1</td>\n",
       "      <td>29.0</td>\n",
       "      <td>Male</td>\n",
       "    </tr>\n",
       "    <tr>\n",
       "      <th>3</th>\n",
       "      <td>v7vdFt</td>\n",
       "      <td>19683</td>\n",
       "      <td>Sat</td>\n",
       "      <td>11</td>\n",
       "      <td>&lt;function to_datetime at 0x00000198E628EFC0&gt;</td>\n",
       "      <td>527</td>\n",
       "      <td>E 33 St &amp; 1 Ave</td>\n",
       "      <td>40.743156</td>\n",
       "      <td>-73.974347</td>\n",
       "      <td>&lt;function to_datetime at 0x00000198E628EFC0&gt;</td>\n",
       "      <td>441</td>\n",
       "      <td>E 52 St &amp; 2 Ave</td>\n",
       "      <td>40.756014</td>\n",
       "      <td>-73.967416</td>\n",
       "      <td>561</td>\n",
       "      <td>Subscriber</td>\n",
       "      <td>1988.0</td>\n",
       "      <td>2</td>\n",
       "      <td>30.0</td>\n",
       "      <td>Female</td>\n",
       "    </tr>\n",
       "    <tr>\n",
       "      <th>4</th>\n",
       "      <td>VGBsb5</td>\n",
       "      <td>18024</td>\n",
       "      <td>Sat</td>\n",
       "      <td>18</td>\n",
       "      <td>&lt;function to_datetime at 0x00000198E628EFC0&gt;</td>\n",
       "      <td>521</td>\n",
       "      <td>8 Ave &amp; W 31 St</td>\n",
       "      <td>40.750450</td>\n",
       "      <td>-73.994811</td>\n",
       "      <td>&lt;function to_datetime at 0x00000198E628EFC0&gt;</td>\n",
       "      <td>476</td>\n",
       "      <td>E 31 St &amp; 3 Ave</td>\n",
       "      <td>40.743943</td>\n",
       "      <td>-73.979661</td>\n",
       "      <td>2296</td>\n",
       "      <td>Non-Subscriber</td>\n",
       "      <td>1978.0</td>\n",
       "      <td>0</td>\n",
       "      <td>40.0</td>\n",
       "      <td>Unknown</td>\n",
       "    </tr>\n",
       "  </tbody>\n",
       "</table>\n",
       "</div>"
      ],
      "text/plain": [
       "  trip_id  bike_id weekday  start_hour  \\\n",
       "0  LnQzQk    16013     Mon          18   \n",
       "1  IL9boN    15230     Thu          18   \n",
       "2  46clGB    17942     Wed          19   \n",
       "3  v7vdFt    19683     Sat          11   \n",
       "4  VGBsb5    18024     Sat          18   \n",
       "\n",
       "                                     start_time  start_station_id  \\\n",
       "0  <function to_datetime at 0x00000198E628EFC0>               523   \n",
       "1  <function to_datetime at 0x00000198E628EFC0>               257   \n",
       "2  <function to_datetime at 0x00000198E628EFC0>               479   \n",
       "3  <function to_datetime at 0x00000198E628EFC0>               527   \n",
       "4  <function to_datetime at 0x00000198E628EFC0>               521   \n",
       "\n",
       "        start_station_name  start_station_latitude  start_station_longitude  \\\n",
       "0          W 38 St & 8 Ave               40.754666               -73.991382   \n",
       "1  Lispenard St & Broadway               40.719392               -74.002472   \n",
       "2          9 Ave & W 45 St               40.760193               -73.991255   \n",
       "3          E 33 St & 1 Ave               40.743156               -73.974347   \n",
       "4          8 Ave & W 31 St               40.750450               -73.994811   \n",
       "\n",
       "                                       end_time  end_station_id  \\\n",
       "0  <function to_datetime at 0x00000198E628EFC0>             334   \n",
       "1  <function to_datetime at 0x00000198E628EFC0>             236   \n",
       "2  <function to_datetime at 0x00000198E628EFC0>             513   \n",
       "3  <function to_datetime at 0x00000198E628EFC0>             441   \n",
       "4  <function to_datetime at 0x00000198E628EFC0>             476   \n",
       "\n",
       "      end_station_name  end_station_latitude  end_station_longitude  \\\n",
       "0      W 20 St & 7 Ave             40.742388             -73.997262   \n",
       "1  St Marks Pl & 2 Ave             40.728419             -73.987140   \n",
       "2     W 56 St & 10 Ave             40.768254             -73.988639   \n",
       "3      E 52 St & 2 Ave             40.756014             -73.967416   \n",
       "4      E 31 St & 3 Ave             40.743943             -73.979661   \n",
       "\n",
       "   trip_duration      subscriber  birth_year  gender   age gender_desc  \n",
       "0            993      Subscriber      1968.0       2  50.0      Female  \n",
       "1            581      Subscriber      1983.0       1  35.0        Male  \n",
       "2            361      Subscriber      1989.0       1  29.0        Male  \n",
       "3            561      Subscriber      1988.0       2  30.0      Female  \n",
       "4           2296  Non-Subscriber      1978.0       0  40.0     Unknown  "
      ]
     },
     "execution_count": 699,
     "metadata": {},
     "output_type": "execute_result"
    }
   ],
   "source": [
    "df.head()"
   ]
  },
  {
   "cell_type": "code",
   "execution_count": 700,
   "id": "2ac2ff27-bcb8-4cf4-9b0e-de53e78a3479",
   "metadata": {},
   "outputs": [
    {
     "data": {
      "text/plain": [
       "(49976, 20)"
      ]
     },
     "execution_count": 700,
     "metadata": {},
     "output_type": "execute_result"
    }
   ],
   "source": [
    "df.shape"
   ]
  },
  {
   "cell_type": "markdown",
   "id": "01ad8661-4f18-41cb-980b-367a55a625b4",
   "metadata": {},
   "source": [
    "# Check missing values"
   ]
  },
  {
   "cell_type": "code",
   "execution_count": 702,
   "id": "e74c2709-1732-446b-95d0-5adec1736bf5",
   "metadata": {},
   "outputs": [
    {
     "data": {
      "text/plain": [
       "trip_id                    0\n",
       "bike_id                    0\n",
       "weekday                    0\n",
       "start_hour                 0\n",
       "start_time                 0\n",
       "start_station_id           0\n",
       "start_station_name         0\n",
       "start_station_latitude     0\n",
       "start_station_longitude    0\n",
       "end_time                   0\n",
       "end_station_id             0\n",
       "end_station_name           0\n",
       "end_station_latitude       0\n",
       "end_station_longitude      0\n",
       "trip_duration              0\n",
       "subscriber                 0\n",
       "birth_year                 0\n",
       "gender                     0\n",
       "age                        0\n",
       "gender_desc                0\n",
       "dtype: int64"
      ]
     },
     "execution_count": 702,
     "metadata": {},
     "output_type": "execute_result"
    }
   ],
   "source": [
    "# check missing values if any\n",
    "df.isnull().sum()"
   ]
  },
  {
   "cell_type": "markdown",
   "id": "9924b7ce-fccd-4917-a026-da97e75a3b3c",
   "metadata": {},
   "source": [
    "# There are two columns having missing values , birth_year and age ."
   ]
  },
  {
   "cell_type": "code",
   "execution_count": 704,
   "id": "3cb01ea6-4db3-4601-9751-f066cae8d06e",
   "metadata": {},
   "outputs": [],
   "source": [
    "# Duplicate check\n",
    "dups=df.duplicated()"
   ]
  },
  {
   "cell_type": "code",
   "execution_count": 705,
   "id": "1d11bb03-4852-4b45-ab6a-7da3e8ebf037",
   "metadata": {},
   "outputs": [
    {
     "data": {
      "text/plain": [
       "(49976,)"
      ]
     },
     "execution_count": 705,
     "metadata": {},
     "output_type": "execute_result"
    }
   ],
   "source": [
    "dups.shape"
   ]
  },
  {
   "cell_type": "markdown",
   "id": "0e69eeb5-68e2-41df-8120-cbd3ae5df922",
   "metadata": {},
   "source": [
    "# There are no duplicate values"
   ]
  },
  {
   "cell_type": "code",
   "execution_count": 707,
   "id": "11e36f97-2b1b-49b4-a787-0f4a84db3f75",
   "metadata": {},
   "outputs": [],
   "source": [
    "# check the percentage of missing data\n",
    "miss_per=(6977/len(df))*100"
   ]
  },
  {
   "cell_type": "code",
   "execution_count": 708,
   "id": "58a38895-6569-4254-a5e2-64436828f8e3",
   "metadata": {},
   "outputs": [
    {
     "data": {
      "text/plain": [
       "13.960701136545541"
      ]
     },
     "execution_count": 708,
     "metadata": {},
     "output_type": "execute_result"
    }
   ],
   "source": [
    "miss_per"
   ]
  },
  {
   "cell_type": "code",
   "execution_count": 709,
   "id": "692455f3-174c-4835-bf66-961717981485",
   "metadata": {},
   "outputs": [
    {
     "name": "stderr",
     "output_type": "stream",
     "text": [
      "C:\\Users\\baidy\\AppData\\Local\\Temp\\ipykernel_2916\\2675501093.py:2: FutureWarning: A value is trying to be set on a copy of a DataFrame or Series through chained assignment using an inplace method.\n",
      "The behavior will change in pandas 3.0. This inplace method will never work because the intermediate object on which we are setting values always behaves as a copy.\n",
      "\n",
      "For example, when doing 'df[col].method(value, inplace=True)', try using 'df.method({col: value}, inplace=True)' or df[col] = df[col].method(value) instead, to perform the operation inplace on the original object.\n",
      "\n",
      "\n",
      "  df['birth_year'].fillna(df['birth_year'].median(),inplace=True)\n"
     ]
    }
   ],
   "source": [
    "# fill in the missing values \n",
    "df['birth_year'].fillna(df['birth_year'].median(),inplace=True)"
   ]
  },
  {
   "cell_type": "code",
   "execution_count": 710,
   "id": "86d1c459-8cd5-4fbc-862d-3e1e5ebf52f2",
   "metadata": {},
   "outputs": [
    {
     "name": "stderr",
     "output_type": "stream",
     "text": [
      "C:\\Users\\baidy\\AppData\\Local\\Temp\\ipykernel_2916\\921762689.py:2: FutureWarning: A value is trying to be set on a copy of a DataFrame or Series through chained assignment using an inplace method.\n",
      "The behavior will change in pandas 3.0. This inplace method will never work because the intermediate object on which we are setting values always behaves as a copy.\n",
      "\n",
      "For example, when doing 'df[col].method(value, inplace=True)', try using 'df.method({col: value}, inplace=True)' or df[col] = df[col].method(value) instead, to perform the operation inplace on the original object.\n",
      "\n",
      "\n",
      "  df['age'].fillna(df['age'].median(),inplace=True)\n"
     ]
    }
   ],
   "source": [
    "# fill in the missing values\n",
    "df['age'].fillna(df['age'].median(),inplace=True)"
   ]
  },
  {
   "cell_type": "markdown",
   "id": "7bd444f4-e532-4e49-8302-699014cf27e3",
   "metadata": {},
   "source": [
    "# Extreme value check"
   ]
  },
  {
   "cell_type": "code",
   "execution_count": 712,
   "id": "66ccab7d-7155-4d80-8c85-c8685fa9b7b2",
   "metadata": {},
   "outputs": [
    {
     "data": {
      "text/plain": [
       "<seaborn.axisgrid.FacetGrid at 0x1988819edb0>"
      ]
     },
     "execution_count": 712,
     "metadata": {},
     "output_type": "execute_result"
    },
    {
     "data": {
      "image/png": "[encoded data removed]",
      "text/plain": [
       "<Figure size 500x500 with 1 Axes>"
      ]
     },
     "metadata": {},
     "output_type": "display_data"
    }
   ],
   "source": [
    "sns.displot(df['age'],bins=25)"
   ]
  },
  {
   "cell_type": "code",
   "execution_count": 713,
   "id": "2b738d67-19a4-4c9b-9955-2dff4bc4ebb7",
   "metadata": {},
   "outputs": [
    {
     "data": {
      "text/plain": [
       "<seaborn.axisgrid.FacetGrid at 0x19886a6aea0>"
      ]
     },
     "execution_count": 713,
     "metadata": {},
     "output_type": "execute_result"
    },
    {
     "data": {
      "image/png": "[encoded data removed]",
      "text/plain": [
       "<Figure size 500x500 with 1 Axes>"
      ]
     },
     "metadata": {},
     "output_type": "display_data"
    }
   ],
   "source": [
    "sns.displot(df['birth_year'],bins=25)"
   ]
  },
  {
   "cell_type": "markdown",
   "id": "ef55fccd-4981-4c12-9ef9-b212803ffe1c",
   "metadata": {},
   "source": [
    "# Observation : Some of the outliers in the high values may need to removed , but let's try without doing that so first."
   ]
  },
  {
   "cell_type": "code",
   "execution_count": 715,
   "id": "fa322ff0-6372-4e85-9e3d-a62dd4593b8e",
   "metadata": {},
   "outputs": [
    {
     "data": {
      "text/plain": [
       "1975.9948975508244"
      ]
     },
     "execution_count": 715,
     "metadata": {},
     "output_type": "execute_result"
    }
   ],
   "source": [
    "df['birth_year'].mean()"
   ]
  },
  {
   "cell_type": "code",
   "execution_count": 716,
   "id": "aa8857ff-6ec4-404d-97e6-66e575fadeef",
   "metadata": {},
   "outputs": [
    {
     "data": {
      "text/plain": [
       "1978.0"
      ]
     },
     "execution_count": 716,
     "metadata": {},
     "output_type": "execute_result"
    }
   ],
   "source": [
    "df['birth_year'].median()"
   ]
  },
  {
   "cell_type": "code",
   "execution_count": 717,
   "id": "af747917-bd49-4430-9e10-704e5edc1284",
   "metadata": {},
   "outputs": [
    {
     "data": {
      "text/plain": [
       "1997.0"
      ]
     },
     "execution_count": 717,
     "metadata": {},
     "output_type": "execute_result"
    }
   ],
   "source": [
    "df['birth_year'].max()"
   ]
  },
  {
   "cell_type": "code",
   "execution_count": 718,
   "id": "5366c251-f648-44c4-b6bc-a48076595133",
   "metadata": {},
   "outputs": [
    {
     "data": {
      "text/plain": [
       "42.0051024491756"
      ]
     },
     "execution_count": 718,
     "metadata": {},
     "output_type": "execute_result"
    }
   ],
   "source": [
    "df['age'].mean()"
   ]
  },
  {
   "cell_type": "code",
   "execution_count": 719,
   "id": "7bedc2bf-261e-4093-93af-d65c0921796f",
   "metadata": {},
   "outputs": [
    {
     "data": {
      "text/plain": [
       "40.0"
      ]
     },
     "execution_count": 719,
     "metadata": {},
     "output_type": "execute_result"
    }
   ],
   "source": [
    "df['age'].median()"
   ]
  },
  {
   "cell_type": "code",
   "execution_count": 720,
   "id": "32c5fc99-825e-44d8-b98f-57338c4b52bf",
   "metadata": {},
   "outputs": [
    {
     "data": {
      "text/plain": [
       "97.0"
      ]
     },
     "execution_count": 720,
     "metadata": {},
     "output_type": "execute_result"
    }
   ],
   "source": [
    "df['age'].max()"
   ]
  },
  {
   "cell_type": "code",
   "execution_count": 721,
   "id": "20a73b7b-ff09-495f-ac50-a0f45f26e593",
   "metadata": {},
   "outputs": [
    {
     "data": {
      "text/html": [
       "<div>\n",
       "<style scoped>\n",
       "    .dataframe tbody tr th:only-of-type {\n",
       "        vertical-align: middle;\n",
       "    }\n",
       "\n",
       "    .dataframe tbody tr th {\n",
       "        vertical-align: top;\n",
       "    }\n",
       "\n",
       "    .dataframe thead th {\n",
       "        text-align: right;\n",
       "    }\n",
       "</style>\n",
       "<table border=\"1\" class=\"dataframe\">\n",
       "  <thead>\n",
       "    <tr style=\"text-align: right;\">\n",
       "      <th></th>\n",
       "      <th>bike_id</th>\n",
       "      <th>start_hour</th>\n",
       "      <th>start_station_id</th>\n",
       "      <th>start_station_latitude</th>\n",
       "      <th>start_station_longitude</th>\n",
       "      <th>end_station_id</th>\n",
       "      <th>end_station_latitude</th>\n",
       "      <th>end_station_longitude</th>\n",
       "      <th>trip_duration</th>\n",
       "      <th>birth_year</th>\n",
       "      <th>gender</th>\n",
       "      <th>age</th>\n",
       "    </tr>\n",
       "  </thead>\n",
       "  <tbody>\n",
       "    <tr>\n",
       "      <th>count</th>\n",
       "      <td>49976.000000</td>\n",
       "      <td>49976.000000</td>\n",
       "      <td>49976.000000</td>\n",
       "      <td>49976.000000</td>\n",
       "      <td>49976.000000</td>\n",
       "      <td>49976.000000</td>\n",
       "      <td>49976.000000</td>\n",
       "      <td>49976.000000</td>\n",
       "      <td>49976.000000</td>\n",
       "      <td>49976.000000</td>\n",
       "      <td>49976.000000</td>\n",
       "      <td>49976.000000</td>\n",
       "    </tr>\n",
       "    <tr>\n",
       "      <th>mean</th>\n",
       "      <td>17615.225748</td>\n",
       "      <td>14.146070</td>\n",
       "      <td>443.309409</td>\n",
       "      <td>40.734170</td>\n",
       "      <td>-73.991106</td>\n",
       "      <td>442.518929</td>\n",
       "      <td>40.733860</td>\n",
       "      <td>-73.991348</td>\n",
       "      <td>838.880243</td>\n",
       "      <td>1975.994898</td>\n",
       "      <td>1.073575</td>\n",
       "      <td>42.005102</td>\n",
       "    </tr>\n",
       "    <tr>\n",
       "      <th>std</th>\n",
       "      <td>1675.193546</td>\n",
       "      <td>4.860639</td>\n",
       "      <td>356.568768</td>\n",
       "      <td>0.019911</td>\n",
       "      <td>0.012552</td>\n",
       "      <td>355.691082</td>\n",
       "      <td>0.019885</td>\n",
       "      <td>0.012569</td>\n",
       "      <td>573.681203</td>\n",
       "      <td>10.189296</td>\n",
       "      <td>0.589528</td>\n",
       "      <td>10.189296</td>\n",
       "    </tr>\n",
       "    <tr>\n",
       "      <th>min</th>\n",
       "      <td>14556.000000</td>\n",
       "      <td>0.000000</td>\n",
       "      <td>72.000000</td>\n",
       "      <td>40.680342</td>\n",
       "      <td>-74.017134</td>\n",
       "      <td>72.000000</td>\n",
       "      <td>40.680342</td>\n",
       "      <td>-74.017134</td>\n",
       "      <td>60.000000</td>\n",
       "      <td>1921.000000</td>\n",
       "      <td>0.000000</td>\n",
       "      <td>21.000000</td>\n",
       "    </tr>\n",
       "    <tr>\n",
       "      <th>25%</th>\n",
       "      <td>16188.000000</td>\n",
       "      <td>10.000000</td>\n",
       "      <td>304.000000</td>\n",
       "      <td>40.720196</td>\n",
       "      <td>-74.000271</td>\n",
       "      <td>304.000000</td>\n",
       "      <td>40.720196</td>\n",
       "      <td>-74.001547</td>\n",
       "      <td>417.000000</td>\n",
       "      <td>1970.000000</td>\n",
       "      <td>1.000000</td>\n",
       "      <td>35.000000</td>\n",
       "    </tr>\n",
       "    <tr>\n",
       "      <th>50%</th>\n",
       "      <td>17584.000000</td>\n",
       "      <td>15.000000</td>\n",
       "      <td>402.000000</td>\n",
       "      <td>40.735877</td>\n",
       "      <td>-73.990765</td>\n",
       "      <td>402.000000</td>\n",
       "      <td>40.735354</td>\n",
       "      <td>-73.991218</td>\n",
       "      <td>672.000000</td>\n",
       "      <td>1978.000000</td>\n",
       "      <td>1.000000</td>\n",
       "      <td>40.000000</td>\n",
       "    </tr>\n",
       "    <tr>\n",
       "      <th>75%</th>\n",
       "      <td>19014.000000</td>\n",
       "      <td>18.000000</td>\n",
       "      <td>484.000000</td>\n",
       "      <td>40.750020</td>\n",
       "      <td>-73.981923</td>\n",
       "      <td>483.000000</td>\n",
       "      <td>40.749013</td>\n",
       "      <td>-73.982050</td>\n",
       "      <td>1112.000000</td>\n",
       "      <td>1983.000000</td>\n",
       "      <td>1.000000</td>\n",
       "      <td>48.000000</td>\n",
       "    </tr>\n",
       "    <tr>\n",
       "      <th>max</th>\n",
       "      <td>20642.000000</td>\n",
       "      <td>23.000000</td>\n",
       "      <td>3002.000000</td>\n",
       "      <td>40.770513</td>\n",
       "      <td>-73.950048</td>\n",
       "      <td>3002.000000</td>\n",
       "      <td>40.770513</td>\n",
       "      <td>-73.950048</td>\n",
       "      <td>2697.000000</td>\n",
       "      <td>1997.000000</td>\n",
       "      <td>2.000000</td>\n",
       "      <td>97.000000</td>\n",
       "    </tr>\n",
       "  </tbody>\n",
       "</table>\n",
       "</div>"
      ],
      "text/plain": [
       "            bike_id    start_hour  start_station_id  start_station_latitude  \\\n",
       "count  49976.000000  49976.000000      49976.000000            49976.000000   \n",
       "mean   17615.225748     14.146070        443.309409               40.734170   \n",
       "std     1675.193546      4.860639        356.568768                0.019911   \n",
       "min    14556.000000      0.000000         72.000000               40.680342   \n",
       "25%    16188.000000     10.000000        304.000000               40.720196   \n",
       "50%    17584.000000     15.000000        402.000000               40.735877   \n",
       "75%    19014.000000     18.000000        484.000000               40.750020   \n",
       "max    20642.000000     23.000000       3002.000000               40.770513   \n",
       "\n",
       "       start_station_longitude  end_station_id  end_station_latitude  \\\n",
       "count             49976.000000    49976.000000          49976.000000   \n",
       "mean                -73.991106      442.518929             40.733860   \n",
       "std                   0.012552      355.691082              0.019885   \n",
       "min                 -74.017134       72.000000             40.680342   \n",
       "25%                 -74.000271      304.000000             40.720196   \n",
       "50%                 -73.990765      402.000000             40.735354   \n",
       "75%                 -73.981923      483.000000             40.749013   \n",
       "max                 -73.950048     3002.000000             40.770513   \n",
       "\n",
       "       end_station_longitude  trip_duration    birth_year        gender  \\\n",
       "count           49976.000000   49976.000000  49976.000000  49976.000000   \n",
       "mean              -73.991348     838.880243   1975.994898      1.073575   \n",
       "std                 0.012569     573.681203     10.189296      0.589528   \n",
       "min               -74.017134      60.000000   1921.000000      0.000000   \n",
       "25%               -74.001547     417.000000   1970.000000      1.000000   \n",
       "50%               -73.991218     672.000000   1978.000000      1.000000   \n",
       "75%               -73.982050    1112.000000   1983.000000      1.000000   \n",
       "max               -73.950048    2697.000000   1997.000000      2.000000   \n",
       "\n",
       "                age  \n",
       "count  49976.000000  \n",
       "mean      42.005102  \n",
       "std       10.189296  \n",
       "min       21.000000  \n",
       "25%       35.000000  \n",
       "50%       40.000000  \n",
       "75%       48.000000  \n",
       "max       97.000000  "
      ]
     },
     "execution_count": 721,
     "metadata": {},
     "output_type": "execute_result"
    }
   ],
   "source": [
    "df.describe()"
   ]
  },
  {
   "cell_type": "code",
   "execution_count": 722,
   "id": "0a2f3c63-bbf5-42dc-bdeb-83cff64e4253",
   "metadata": {},
   "outputs": [],
   "source": [
    "# create clean Version of the dataset\n",
    "df_clean=df.copy()"
   ]
  },
  {
   "cell_type": "code",
   "execution_count": 723,
   "id": "08746a98-7ddc-4ef5-9561-f28152bd7b87",
   "metadata": {},
   "outputs": [],
   "source": [
    "# Convert timestamps to datetime\n",
    "df_clean['start_time'] = pd.to_datetime\n",
    "df_clean['end_time'] = pd.to_datetime"
   ]
  },
  {
   "cell_type": "code",
   "execution_count": 724,
   "id": "d324f161-f6b8-407d-9905-f3a2becd647a",
   "metadata": {},
   "outputs": [],
   "source": [
    "# Filter out unrealistic birthdates\n",
    "df_clean=df_clean[(df_clean['birth_year'].isna())|((df_clean['birth_year']>=1920)&(df_clean['birth_year']<=2005))]"
   ]
  },
  {
   "cell_type": "code",
   "execution_count": 725,
   "id": "4733a25c-bb56-4fd8-a374-886b69ebedc4",
   "metadata": {},
   "outputs": [],
   "source": [
    "# Create age column (as of 2018 , assuming the data is from 2018)\n",
    "df_clean['age']=2018-df_clean['birth_year']"
   ]
  },
  {
   "cell_type": "code",
   "execution_count": 726,
   "id": "3235d618-311b-4e09-b2b3-c571b6dbc459",
   "metadata": {},
   "outputs": [],
   "source": [
    "# map gender codes to descriptive values\n",
    "df_clean['gender_desc']=df_clean['gender'].map({0:'Unknown',1:'Male',2:'Female'})"
   ]
  },
  {
   "cell_type": "code",
   "execution_count": 727,
   "id": "d1870d49-327e-41ce-99f4-02994bc7884b",
   "metadata": {},
   "outputs": [
    {
     "data": {
      "text/html": [
       "<div>\n",
       "<style scoped>\n",
       "    .dataframe tbody tr th:only-of-type {\n",
       "        vertical-align: middle;\n",
       "    }\n",
       "\n",
       "    .dataframe tbody tr th {\n",
       "        vertical-align: top;\n",
       "    }\n",
       "\n",
       "    .dataframe thead th {\n",
       "        text-align: right;\n",
       "    }\n",
       "</style>\n",
       "<table border=\"1\" class=\"dataframe\">\n",
       "  <thead>\n",
       "    <tr style=\"text-align: right;\">\n",
       "      <th></th>\n",
       "      <th>trip_id</th>\n",
       "      <th>bike_id</th>\n",
       "      <th>weekday</th>\n",
       "      <th>start_hour</th>\n",
       "      <th>start_time</th>\n",
       "      <th>start_station_id</th>\n",
       "      <th>start_station_name</th>\n",
       "      <th>start_station_latitude</th>\n",
       "      <th>start_station_longitude</th>\n",
       "      <th>end_time</th>\n",
       "      <th>end_station_id</th>\n",
       "      <th>end_station_name</th>\n",
       "      <th>end_station_latitude</th>\n",
       "      <th>end_station_longitude</th>\n",
       "      <th>trip_duration</th>\n",
       "      <th>subscriber</th>\n",
       "      <th>birth_year</th>\n",
       "      <th>gender</th>\n",
       "      <th>age</th>\n",
       "      <th>gender_desc</th>\n",
       "    </tr>\n",
       "  </thead>\n",
       "  <tbody>\n",
       "    <tr>\n",
       "      <th>0</th>\n",
       "      <td>LnQzQk</td>\n",
       "      <td>16013</td>\n",
       "      <td>Mon</td>\n",
       "      <td>18</td>\n",
       "      <td>&lt;function to_datetime at 0x00000198E628EFC0&gt;</td>\n",
       "      <td>523</td>\n",
       "      <td>W 38 St &amp; 8 Ave</td>\n",
       "      <td>40.754666</td>\n",
       "      <td>-73.991382</td>\n",
       "      <td>&lt;function to_datetime at 0x00000198E628EFC0&gt;</td>\n",
       "      <td>334</td>\n",
       "      <td>W 20 St &amp; 7 Ave</td>\n",
       "      <td>40.742388</td>\n",
       "      <td>-73.997262</td>\n",
       "      <td>993</td>\n",
       "      <td>Subscriber</td>\n",
       "      <td>1968.0</td>\n",
       "      <td>2</td>\n",
       "      <td>50.0</td>\n",
       "      <td>Female</td>\n",
       "    </tr>\n",
       "    <tr>\n",
       "      <th>1</th>\n",
       "      <td>IL9boN</td>\n",
       "      <td>15230</td>\n",
       "      <td>Thu</td>\n",
       "      <td>18</td>\n",
       "      <td>&lt;function to_datetime at 0x00000198E628EFC0&gt;</td>\n",
       "      <td>257</td>\n",
       "      <td>Lispenard St &amp; Broadway</td>\n",
       "      <td>40.719392</td>\n",
       "      <td>-74.002472</td>\n",
       "      <td>&lt;function to_datetime at 0x00000198E628EFC0&gt;</td>\n",
       "      <td>236</td>\n",
       "      <td>St Marks Pl &amp; 2 Ave</td>\n",
       "      <td>40.728419</td>\n",
       "      <td>-73.987140</td>\n",
       "      <td>581</td>\n",
       "      <td>Subscriber</td>\n",
       "      <td>1983.0</td>\n",
       "      <td>1</td>\n",
       "      <td>35.0</td>\n",
       "      <td>Male</td>\n",
       "    </tr>\n",
       "    <tr>\n",
       "      <th>2</th>\n",
       "      <td>46clGB</td>\n",
       "      <td>17942</td>\n",
       "      <td>Wed</td>\n",
       "      <td>19</td>\n",
       "      <td>&lt;function to_datetime at 0x00000198E628EFC0&gt;</td>\n",
       "      <td>479</td>\n",
       "      <td>9 Ave &amp; W 45 St</td>\n",
       "      <td>40.760193</td>\n",
       "      <td>-73.991255</td>\n",
       "      <td>&lt;function to_datetime at 0x00000198E628EFC0&gt;</td>\n",
       "      <td>513</td>\n",
       "      <td>W 56 St &amp; 10 Ave</td>\n",
       "      <td>40.768254</td>\n",
       "      <td>-73.988639</td>\n",
       "      <td>361</td>\n",
       "      <td>Subscriber</td>\n",
       "      <td>1989.0</td>\n",
       "      <td>1</td>\n",
       "      <td>29.0</td>\n",
       "      <td>Male</td>\n",
       "    </tr>\n",
       "    <tr>\n",
       "      <th>3</th>\n",
       "      <td>v7vdFt</td>\n",
       "      <td>19683</td>\n",
       "      <td>Sat</td>\n",
       "      <td>11</td>\n",
       "      <td>&lt;function to_datetime at 0x00000198E628EFC0&gt;</td>\n",
       "      <td>527</td>\n",
       "      <td>E 33 St &amp; 1 Ave</td>\n",
       "      <td>40.743156</td>\n",
       "      <td>-73.974347</td>\n",
       "      <td>&lt;function to_datetime at 0x00000198E628EFC0&gt;</td>\n",
       "      <td>441</td>\n",
       "      <td>E 52 St &amp; 2 Ave</td>\n",
       "      <td>40.756014</td>\n",
       "      <td>-73.967416</td>\n",
       "      <td>561</td>\n",
       "      <td>Subscriber</td>\n",
       "      <td>1988.0</td>\n",
       "      <td>2</td>\n",
       "      <td>30.0</td>\n",
       "      <td>Female</td>\n",
       "    </tr>\n",
       "    <tr>\n",
       "      <th>4</th>\n",
       "      <td>VGBsb5</td>\n",
       "      <td>18024</td>\n",
       "      <td>Sat</td>\n",
       "      <td>18</td>\n",
       "      <td>&lt;function to_datetime at 0x00000198E628EFC0&gt;</td>\n",
       "      <td>521</td>\n",
       "      <td>8 Ave &amp; W 31 St</td>\n",
       "      <td>40.750450</td>\n",
       "      <td>-73.994811</td>\n",
       "      <td>&lt;function to_datetime at 0x00000198E628EFC0&gt;</td>\n",
       "      <td>476</td>\n",
       "      <td>E 31 St &amp; 3 Ave</td>\n",
       "      <td>40.743943</td>\n",
       "      <td>-73.979661</td>\n",
       "      <td>2296</td>\n",
       "      <td>Non-Subscriber</td>\n",
       "      <td>1978.0</td>\n",
       "      <td>0</td>\n",
       "      <td>40.0</td>\n",
       "      <td>Unknown</td>\n",
       "    </tr>\n",
       "  </tbody>\n",
       "</table>\n",
       "</div>"
      ],
      "text/plain": [
       "  trip_id  bike_id weekday  start_hour  \\\n",
       "0  LnQzQk    16013     Mon          18   \n",
       "1  IL9boN    15230     Thu          18   \n",
       "2  46clGB    17942     Wed          19   \n",
       "3  v7vdFt    19683     Sat          11   \n",
       "4  VGBsb5    18024     Sat          18   \n",
       "\n",
       "                                     start_time  start_station_id  \\\n",
       "0  <function to_datetime at 0x00000198E628EFC0>               523   \n",
       "1  <function to_datetime at 0x00000198E628EFC0>               257   \n",
       "2  <function to_datetime at 0x00000198E628EFC0>               479   \n",
       "3  <function to_datetime at 0x00000198E628EFC0>               527   \n",
       "4  <function to_datetime at 0x00000198E628EFC0>               521   \n",
       "\n",
       "        start_station_name  start_station_latitude  start_station_longitude  \\\n",
       "0          W 38 St & 8 Ave               40.754666               -73.991382   \n",
       "1  Lispenard St & Broadway               40.719392               -74.002472   \n",
       "2          9 Ave & W 45 St               40.760193               -73.991255   \n",
       "3          E 33 St & 1 Ave               40.743156               -73.974347   \n",
       "4          8 Ave & W 31 St               40.750450               -73.994811   \n",
       "\n",
       "                                       end_time  end_station_id  \\\n",
       "0  <function to_datetime at 0x00000198E628EFC0>             334   \n",
       "1  <function to_datetime at 0x00000198E628EFC0>             236   \n",
       "2  <function to_datetime at 0x00000198E628EFC0>             513   \n",
       "3  <function to_datetime at 0x00000198E628EFC0>             441   \n",
       "4  <function to_datetime at 0x00000198E628EFC0>             476   \n",
       "\n",
       "      end_station_name  end_station_latitude  end_station_longitude  \\\n",
       "0      W 20 St & 7 Ave             40.742388             -73.997262   \n",
       "1  St Marks Pl & 2 Ave             40.728419             -73.987140   \n",
       "2     W 56 St & 10 Ave             40.768254             -73.988639   \n",
       "3      E 52 St & 2 Ave             40.756014             -73.967416   \n",
       "4      E 31 St & 3 Ave             40.743943             -73.979661   \n",
       "\n",
       "   trip_duration      subscriber  birth_year  gender   age gender_desc  \n",
       "0            993      Subscriber      1968.0       2  50.0      Female  \n",
       "1            581      Subscriber      1983.0       1  35.0        Male  \n",
       "2            361      Subscriber      1989.0       1  29.0        Male  \n",
       "3            561      Subscriber      1988.0       2  30.0      Female  \n",
       "4           2296  Non-Subscriber      1978.0       0  40.0     Unknown  "
      ]
     },
     "execution_count": 727,
     "metadata": {},
     "output_type": "execute_result"
    }
   ],
   "source": [
    "# show the clean data\n",
    "df_clean.head()"
   ]
  },
  {
   "cell_type": "code",
   "execution_count": 728,
   "id": "1687bbe7-c2f5-462c-92b1-ec376895b301",
   "metadata": {},
   "outputs": [],
   "source": [
    "#save the clean dataset\n",
    "df_clean.to_csv('citibike_cleaned.csv',index=False)"
   ]
  },
  {
   "cell_type": "markdown",
   "id": "2650b490-0867-445b-b202-74222e59c2a9",
   "metadata": {},
   "source": [
    "# Data preparation and regression analysis"
   ]
  },
  {
   "cell_type": "code",
   "execution_count": 730,
   "id": "9e7dabac-8cc8-480d-8045-57f225b01bdd",
   "metadata": {},
   "outputs": [
    {
     "data": {
      "image/png": "[encoded data removed]",
      "text/plain": [
       "<Figure size 640x480 with 1 Axes>"
      ]
     },
     "metadata": {},
     "output_type": "display_data"
    }
   ],
   "source": [
    "# Create a scatterplot for how the chosen variables plot against each other\n",
    "df_clean.plot(x='start_hour',y='trip_duration',style='o')\n",
    "plt.title('Scatterplot of Start hour vs Trip duration')\n",
    "plt.xlabel('start_hour')\n",
    "plt.ylabel('trip_duration')\n",
    "plt.show()"
   ]
  },
  {
   "cell_type": "code",
   "execution_count": 731,
   "id": "d106038f-37c9-49f6-a183-73faba7e4815",
   "metadata": {},
   "outputs": [],
   "source": [
    "# Reshape the variables into Numpy arrays and put them into separate objects(define independent X and dependent y variables)\n",
    "X=df_clean['start_hour'].values.reshape(-1,1)\n",
    "y=df_clean['trip_duration'].values.reshape(-1,1)\n"
   ]
  },
  {
   "cell_type": "code",
   "execution_count": 732,
   "id": "8cdda5a0-3ccd-47f2-8301-8b6503cc5d25",
   "metadata": {},
   "outputs": [
    {
     "data": {
      "text/plain": [
       "array([[18],\n",
       "       [18],\n",
       "       [19],\n",
       "       ...,\n",
       "       [18],\n",
       "       [13],\n",
       "       [21]], dtype=int64)"
      ]
     },
     "execution_count": 732,
     "metadata": {},
     "output_type": "execute_result"
    }
   ],
   "source": [
    "X"
   ]
  },
  {
   "cell_type": "code",
   "execution_count": 733,
   "id": "99678711-84fe-43cd-b59c-dec67a3bdd5c",
   "metadata": {},
   "outputs": [
    {
     "data": {
      "text/plain": [
       "array([[ 993],\n",
       "       [ 581],\n",
       "       [ 361],\n",
       "       ...,\n",
       "       [1050],\n",
       "       [2697],\n",
       "       [ 370]], dtype=int64)"
      ]
     },
     "execution_count": 733,
     "metadata": {},
     "output_type": "execute_result"
    }
   ],
   "source": [
    "y"
   ]
  },
  {
   "cell_type": "code",
   "execution_count": 734,
   "id": "491c49b7-6691-4845-9bb4-f5b00410268b",
   "metadata": {},
   "outputs": [],
   "source": [
    "# Split the data into a training set and test set\n",
    "X_train,X_test,y_train,y_test=train_test_split(X,y,test_size=0.2,random_state=42)"
   ]
  },
  {
   "cell_type": "markdown",
   "id": "b070e59a-23e0-43cb-b923-8b04cf91a298",
   "metadata": {},
   "source": [
    "# Regression Analysis"
   ]
  },
  {
   "cell_type": "code",
   "execution_count": 736,
   "id": "e27aac2b-f884-47b5-b103-d9bf80d0c3ef",
   "metadata": {},
   "outputs": [
    {
     "data": {
      "text/html": [
       "<style>#sk-container-id-11 {\n",
       "  /* Definition of color scheme common for light and dark mode */\n",
       "  --sklearn-color-text: black;\n",
       "  --sklearn-color-line: gray;\n",
       "  /* Definition of color scheme for unfitted estimators */\n",
       "  --sklearn-color-unfitted-level-0: #fff5e6;\n",
       "  --sklearn-color-unfitted-level-1: #f6e4d2;\n",
       "  --sklearn-color-unfitted-level-2: #ffe0b3;\n",
       "  --sklearn-color-unfitted-level-3: chocolate;\n",
       "  /* Definition of color scheme for fitted estimators */\n",
       "  --sklearn-color-fitted-level-0: #f0f8ff;\n",
       "  --sklearn-color-fitted-level-1: #d4ebff;\n",
       "  --sklearn-color-fitted-level-2: #b3dbfd;\n",
       "  --sklearn-color-fitted-level-3: cornflowerblue;\n",
       "\n",
       "  /* Specific color for light theme */\n",
       "  --sklearn-color-text-on-default-background: var(--sg-text-color, var(--theme-code-foreground, var(--jp-content-font-color1, black)));\n",
       "  --sklearn-color-background: var(--sg-background-color, var(--theme-background, var(--jp-layout-color0, white)));\n",
       "  --sklearn-color-border-box: var(--sg-text-color, var(--theme-code-foreground, var(--jp-content-font-color1, black)));\n",
       "  --sklearn-color-icon: #696969;\n",
       "\n",
       "  @media (prefers-color-scheme: dark) {\n",
       "    /* Redefinition of color scheme for dark theme */\n",
       "    --sklearn-color-text-on-default-background: var(--sg-text-color, var(--theme-code-foreground, var(--jp-content-font-color1, white)));\n",
       "    --sklearn-color-background: var(--sg-background-color, var(--theme-background, var(--jp-layout-color0, #111)));\n",
       "    --sklearn-color-border-box: var(--sg-text-color, var(--theme-code-foreground, var(--jp-content-font-color1, white)));\n",
       "    --sklearn-color-icon: #878787;\n",
       "  }\n",
       "}\n",
       "\n",
       "#sk-container-id-11 {\n",
       "  color: var(--sklearn-color-text);\n",
       "}\n",
       "\n",
       "#sk-container-id-11 pre {\n",
       "  padding: 0;\n",
       "}\n",
       "\n",
       "#sk-container-id-11 input.sk-hidden--visually {\n",
       "  border: 0;\n",
       "  clip: rect(1px 1px 1px 1px);\n",
       "  clip: rect(1px, 1px, 1px, 1px);\n",
       "  height: 1px;\n",
       "  margin: -1px;\n",
       "  overflow: hidden;\n",
       "  padding: 0;\n",
       "  position: absolute;\n",
       "  width: 1px;\n",
       "}\n",
       "\n",
       "#sk-container-id-11 div.sk-dashed-wrapped {\n",
       "  border: 1px dashed var(--sklearn-color-line);\n",
       "  margin: 0 0.4em 0.5em 0.4em;\n",
       "  box-sizing: border-box;\n",
       "  padding-bottom: 0.4em;\n",
       "  background-color: var(--sklearn-color-background);\n",
       "}\n",
       "\n",
       "#sk-container-id-11 div.sk-container {\n",
       "  /* jupyter's `normalize.less` sets `[hidden] { display: none; }`\n",
       "     but bootstrap.min.css set `[hidden] { display: none !important; }`\n",
       "     so we also need the `!important` here to be able to override the\n",
       "     default hidden behavior on the sphinx rendered scikit-learn.org.\n",
       "     See: https://github.com/scikit-learn/scikit-learn/issues/21755 */\n",
       "  display: inline-block !important;\n",
       "  position: relative;\n",
       "}\n",
       "\n",
       "#sk-container-id-11 div.sk-text-repr-fallback {\n",
       "  display: none;\n",
       "}\n",
       "\n",
       "div.sk-parallel-item,\n",
       "div.sk-serial,\n",
       "div.sk-item {\n",
       "  /* draw centered vertical line to link estimators */\n",
       "  background-image: linear-gradient(var(--sklearn-color-text-on-default-background), var(--sklearn-color-text-on-default-background));\n",
       "  background-size: 2px 100%;\n",
       "  background-repeat: no-repeat;\n",
       "  background-position: center center;\n",
       "}\n",
       "\n",
       "/* Parallel-specific style estimator block */\n",
       "\n",
       "#sk-container-id-11 div.sk-parallel-item::after {\n",
       "  content: \"\";\n",
       "  width: 100%;\n",
       "  border-bottom: 2px solid var(--sklearn-color-text-on-default-background);\n",
       "  flex-grow: 1;\n",
       "}\n",
       "\n",
       "#sk-container-id-11 div.sk-parallel {\n",
       "  display: flex;\n",
       "  align-items: stretch;\n",
       "  justify-content: center;\n",
       "  background-color: var(--sklearn-color-background);\n",
       "  position: relative;\n",
       "}\n",
       "\n",
       "#sk-container-id-11 div.sk-parallel-item {\n",
       "  display: flex;\n",
       "  flex-direction: column;\n",
       "}\n",
       "\n",
       "#sk-container-id-11 div.sk-parallel-item:first-child::after {\n",
       "  align-self: flex-end;\n",
       "  width: 50%;\n",
       "}\n",
       "\n",
       "#sk-container-id-11 div.sk-parallel-item:last-child::after {\n",
       "  align-self: flex-start;\n",
       "  width: 50%;\n",
       "}\n",
       "\n",
       "#sk-container-id-11 div.sk-parallel-item:only-child::after {\n",
       "  width: 0;\n",
       "}\n",
       "\n",
       "/* Serial-specific style estimator block */\n",
       "\n",
       "#sk-container-id-11 div.sk-serial {\n",
       "  display: flex;\n",
       "  flex-direction: column;\n",
       "  align-items: center;\n",
       "  background-color: var(--sklearn-color-background);\n",
       "  padding-right: 1em;\n",
       "  padding-left: 1em;\n",
       "}\n",
       "\n",
       "\n",
       "/* Toggleable style: style used for estimator/Pipeline/ColumnTransformer box that is\n",
       "clickable and can be expanded/collapsed.\n",
       "- Pipeline and ColumnTransformer use this feature and define the default style\n",
       "- Estimators will overwrite some part of the style using the `sk-estimator` class\n",
       "*/\n",
       "\n",
       "/* Pipeline and ColumnTransformer style (default) */\n",
       "\n",
       "#sk-container-id-11 div.sk-toggleable {\n",
       "  /* Default theme specific background. It is overwritten whether we have a\n",
       "  specific estimator or a Pipeline/ColumnTransformer */\n",
       "  background-color: var(--sklearn-color-background);\n",
       "}\n",
       "\n",
       "/* Toggleable label */\n",
       "#sk-container-id-11 label.sk-toggleable__label {\n",
       "  cursor: pointer;\n",
       "  display: block;\n",
       "  width: 100%;\n",
       "  margin-bottom: 0;\n",
       "  padding: 0.5em;\n",
       "  box-sizing: border-box;\n",
       "  text-align: center;\n",
       "}\n",
       "\n",
       "#sk-container-id-11 label.sk-toggleable__label-arrow:before {\n",
       "  /* Arrow on the left of the label */\n",
       "  content: \"▸\";\n",
       "  float: left;\n",
       "  margin-right: 0.25em;\n",
       "  color: var(--sklearn-color-icon);\n",
       "}\n",
       "\n",
       "#sk-container-id-11 label.sk-toggleable__label-arrow:hover:before {\n",
       "  color: var(--sklearn-color-text);\n",
       "}\n",
       "\n",
       "/* Toggleable content - dropdown */\n",
       "\n",
       "#sk-container-id-11 div.sk-toggleable__content {\n",
       "  max-height: 0;\n",
       "  max-width: 0;\n",
       "  overflow: hidden;\n",
       "  text-align: left;\n",
       "  /* unfitted */\n",
       "  background-color: var(--sklearn-color-unfitted-level-0);\n",
       "}\n",
       "\n",
       "#sk-container-id-11 div.sk-toggleable__content.fitted {\n",
       "  /* fitted */\n",
       "  background-color: var(--sklearn-color-fitted-level-0);\n",
       "}\n",
       "\n",
       "#sk-container-id-11 div.sk-toggleable__content pre {\n",
       "  margin: 0.2em;\n",
       "  border-radius: 0.25em;\n",
       "  color: var(--sklearn-color-text);\n",
       "  /* unfitted */\n",
       "  background-color: var(--sklearn-color-unfitted-level-0);\n",
       "}\n",
       "\n",
       "#sk-container-id-11 div.sk-toggleable__content.fitted pre {\n",
       "  /* unfitted */\n",
       "  background-color: var(--sklearn-color-fitted-level-0);\n",
       "}\n",
       "\n",
       "#sk-container-id-11 input.sk-toggleable__control:checked~div.sk-toggleable__content {\n",
       "  /* Expand drop-down */\n",
       "  max-height: 200px;\n",
       "  max-width: 100%;\n",
       "  overflow: auto;\n",
       "}\n",
       "\n",
       "#sk-container-id-11 input.sk-toggleable__control:checked~label.sk-toggleable__label-arrow:before {\n",
       "  content: \"▾\";\n",
       "}\n",
       "\n",
       "/* Pipeline/ColumnTransformer-specific style */\n",
       "\n",
       "#sk-container-id-11 div.sk-label input.sk-toggleable__control:checked~label.sk-toggleable__label {\n",
       "  color: var(--sklearn-color-text);\n",
       "  background-color: var(--sklearn-color-unfitted-level-2);\n",
       "}\n",
       "\n",
       "#sk-container-id-11 div.sk-label.fitted input.sk-toggleable__control:checked~label.sk-toggleable__label {\n",
       "  background-color: var(--sklearn-color-fitted-level-2);\n",
       "}\n",
       "\n",
       "/* Estimator-specific style */\n",
       "\n",
       "/* Colorize estimator box */\n",
       "#sk-container-id-11 div.sk-estimator input.sk-toggleable__control:checked~label.sk-toggleable__label {\n",
       "  /* unfitted */\n",
       "  background-color: var(--sklearn-color-unfitted-level-2);\n",
       "}\n",
       "\n",
       "#sk-container-id-11 div.sk-estimator.fitted input.sk-toggleable__control:checked~label.sk-toggleable__label {\n",
       "  /* fitted */\n",
       "  background-color: var(--sklearn-color-fitted-level-2);\n",
       "}\n",
       "\n",
       "#sk-container-id-11 div.sk-label label.sk-toggleable__label,\n",
       "#sk-container-id-11 div.sk-label label {\n",
       "  /* The background is the default theme color */\n",
       "  color: var(--sklearn-color-text-on-default-background);\n",
       "}\n",
       "\n",
       "/* On hover, darken the color of the background */\n",
       "#sk-container-id-11 div.sk-label:hover label.sk-toggleable__label {\n",
       "  color: var(--sklearn-color-text);\n",
       "  background-color: var(--sklearn-color-unfitted-level-2);\n",
       "}\n",
       "\n",
       "/* Label box, darken color on hover, fitted */\n",
       "#sk-container-id-11 div.sk-label.fitted:hover label.sk-toggleable__label.fitted {\n",
       "  color: var(--sklearn-color-text);\n",
       "  background-color: var(--sklearn-color-fitted-level-2);\n",
       "}\n",
       "\n",
       "/* Estimator label */\n",
       "\n",
       "#sk-container-id-11 div.sk-label label {\n",
       "  font-family: monospace;\n",
       "  font-weight: bold;\n",
       "  display: inline-block;\n",
       "  line-height: 1.2em;\n",
       "}\n",
       "\n",
       "#sk-container-id-11 div.sk-label-container {\n",
       "  text-align: center;\n",
       "}\n",
       "\n",
       "/* Estimator-specific */\n",
       "#sk-container-id-11 div.sk-estimator {\n",
       "  font-family: monospace;\n",
       "  border: 1px dotted var(--sklearn-color-border-box);\n",
       "  border-radius: 0.25em;\n",
       "  box-sizing: border-box;\n",
       "  margin-bottom: 0.5em;\n",
       "  /* unfitted */\n",
       "  background-color: var(--sklearn-color-unfitted-level-0);\n",
       "}\n",
       "\n",
       "#sk-container-id-11 div.sk-estimator.fitted {\n",
       "  /* fitted */\n",
       "  background-color: var(--sklearn-color-fitted-level-0);\n",
       "}\n",
       "\n",
       "/* on hover */\n",
       "#sk-container-id-11 div.sk-estimator:hover {\n",
       "  /* unfitted */\n",
       "  background-color: var(--sklearn-color-unfitted-level-2);\n",
       "}\n",
       "\n",
       "#sk-container-id-11 div.sk-estimator.fitted:hover {\n",
       "  /* fitted */\n",
       "  background-color: var(--sklearn-color-fitted-level-2);\n",
       "}\n",
       "\n",
       "/* Specification for estimator info (e.g. \"i\" and \"?\") */\n",
       "\n",
       "/* Common style for \"i\" and \"?\" */\n",
       "\n",
       ".sk-estimator-doc-link,\n",
       "a:link.sk-estimator-doc-link,\n",
       "a:visited.sk-estimator-doc-link {\n",
       "  float: right;\n",
       "  font-size: smaller;\n",
       "  line-height: 1em;\n",
       "  font-family: monospace;\n",
       "  background-color: var(--sklearn-color-background);\n",
       "  border-radius: 1em;\n",
       "  height: 1em;\n",
       "  width: 1em;\n",
       "  text-decoration: none !important;\n",
       "  margin-left: 1ex;\n",
       "  /* unfitted */\n",
       "  border: var(--sklearn-color-unfitted-level-1) 1pt solid;\n",
       "  color: var(--sklearn-color-unfitted-level-1);\n",
       "}\n",
       "\n",
       ".sk-estimator-doc-link.fitted,\n",
       "a:link.sk-estimator-doc-link.fitted,\n",
       "a:visited.sk-estimator-doc-link.fitted {\n",
       "  /* fitted */\n",
       "  border: var(--sklearn-color-fitted-level-1) 1pt solid;\n",
       "  color: var(--sklearn-color-fitted-level-1);\n",
       "}\n",
       "\n",
       "/* On hover */\n",
       "div.sk-estimator:hover .sk-estimator-doc-link:hover,\n",
       ".sk-estimator-doc-link:hover,\n",
       "div.sk-label-container:hover .sk-estimator-doc-link:hover,\n",
       ".sk-estimator-doc-link:hover {\n",
       "  /* unfitted */\n",
       "  background-color: var(--sklearn-color-unfitted-level-3);\n",
       "  color: var(--sklearn-color-background);\n",
       "  text-decoration: none;\n",
       "}\n",
       "\n",
       "div.sk-estimator.fitted:hover .sk-estimator-doc-link.fitted:hover,\n",
       ".sk-estimator-doc-link.fitted:hover,\n",
       "div.sk-label-container:hover .sk-estimator-doc-link.fitted:hover,\n",
       ".sk-estimator-doc-link.fitted:hover {\n",
       "  /* fitted */\n",
       "  background-color: var(--sklearn-color-fitted-level-3);\n",
       "  color: var(--sklearn-color-background);\n",
       "  text-decoration: none;\n",
       "}\n",
       "\n",
       "/* Span, style for the box shown on hovering the info icon */\n",
       ".sk-estimator-doc-link span {\n",
       "  display: none;\n",
       "  z-index: 9999;\n",
       "  position: relative;\n",
       "  font-weight: normal;\n",
       "  right: .2ex;\n",
       "  padding: .5ex;\n",
       "  margin: .5ex;\n",
       "  width: min-content;\n",
       "  min-width: 20ex;\n",
       "  max-width: 50ex;\n",
       "  color: var(--sklearn-color-text);\n",
       "  box-shadow: 2pt 2pt 4pt #999;\n",
       "  /* unfitted */\n",
       "  background: var(--sklearn-color-unfitted-level-0);\n",
       "  border: .5pt solid var(--sklearn-color-unfitted-level-3);\n",
       "}\n",
       "\n",
       ".sk-estimator-doc-link.fitted span {\n",
       "  /* fitted */\n",
       "  background: var(--sklearn-color-fitted-level-0);\n",
       "  border: var(--sklearn-color-fitted-level-3);\n",
       "}\n",
       "\n",
       ".sk-estimator-doc-link:hover span {\n",
       "  display: block;\n",
       "}\n",
       "\n",
       "/* \"?\"-specific style due to the `<a>` HTML tag */\n",
       "\n",
       "#sk-container-id-11 a.estimator_doc_link {\n",
       "  float: right;\n",
       "  font-size: 1rem;\n",
       "  line-height: 1em;\n",
       "  font-family: monospace;\n",
       "  background-color: var(--sklearn-color-background);\n",
       "  border-radius: 1rem;\n",
       "  height: 1rem;\n",
       "  width: 1rem;\n",
       "  text-decoration: none;\n",
       "  /* unfitted */\n",
       "  color: var(--sklearn-color-unfitted-level-1);\n",
       "  border: var(--sklearn-color-unfitted-level-1) 1pt solid;\n",
       "}\n",
       "\n",
       "#sk-container-id-11 a.estimator_doc_link.fitted {\n",
       "  /* fitted */\n",
       "  border: var(--sklearn-color-fitted-level-1) 1pt solid;\n",
       "  color: var(--sklearn-color-fitted-level-1);\n",
       "}\n",
       "\n",
       "/* On hover */\n",
       "#sk-container-id-11 a.estimator_doc_link:hover {\n",
       "  /* unfitted */\n",
       "  background-color: var(--sklearn-color-unfitted-level-3);\n",
       "  color: var(--sklearn-color-background);\n",
       "  text-decoration: none;\n",
       "}\n",
       "\n",
       "#sk-container-id-11 a.estimator_doc_link.fitted:hover {\n",
       "  /* fitted */\n",
       "  background-color: var(--sklearn-color-fitted-level-3);\n",
       "}\n",
       "</style><div id=\"sk-container-id-11\" class=\"sk-top-container\"><div class=\"sk-text-repr-fallback\"><pre>LinearRegression()</pre><b>In a Jupyter environment, please rerun this cell to show the HTML representation or trust the notebook. <br />On GitHub, the HTML representation is unable to render, please try loading this page with nbviewer.org.</b></div><div class=\"sk-container\" hidden><div class=\"sk-item\"><div class=\"sk-estimator fitted sk-toggleable\"><input class=\"sk-toggleable__control sk-hidden--visually\" id=\"sk-estimator-id-11\" type=\"checkbox\" checked><label for=\"sk-estimator-id-11\" class=\"sk-toggleable__label fitted sk-toggleable__label-arrow fitted\">&nbsp;&nbsp;LinearRegression<a class=\"sk-estimator-doc-link fitted\" rel=\"noreferrer\" target=\"_blank\" href=\"https://scikit-learn.org/1.4/modules/generated/sklearn.linear_model.LinearRegression.html\">?<span>Documentation for LinearRegression</span></a><span class=\"sk-estimator-doc-link fitted\">i<span>Fitted</span></span></label><div class=\"sk-toggleable__content fitted\"><pre>LinearRegression()</pre></div> </div></div></div></div>"
      ],
      "text/plain": [
       "LinearRegression()"
      ]
     },
     "execution_count": 736,
     "metadata": {},
     "output_type": "execute_result"
    }
   ],
   "source": [
    "# Create and train the model\n",
    "model=LinearRegression()\n",
    "model.fit(X_train,y_train)"
   ]
  },
  {
   "cell_type": "code",
   "execution_count": 737,
   "id": "33619856-d07c-4fc8-9e15-2a6cbca94f39",
   "metadata": {},
   "outputs": [],
   "source": [
    "# Predict y values for the test set\n",
    "y_pred=model.predict(X_test)"
   ]
  },
  {
   "cell_type": "code",
   "execution_count": 738,
   "id": "0c9ffb30-1b60-4beb-917b-e91c114a71c0",
   "metadata": {},
   "outputs": [
    {
     "data": {
      "image/png": "[encoded data removed]",
      "text/plain": [
       "<Figure size 800x500 with 1 Axes>"
      ]
     },
     "metadata": {},
     "output_type": "display_data"
    }
   ],
   "source": [
    "#Plot the regression line\n",
    "plt.figure(figsize=(8,5))\n",
    "sns.scatterplot(x=X_test.flatten(),y=y_test.flatten(),alpha=0.5,label='Actual')\n",
    "sns.lineplot(x=X_test.flatten(),y=y_pred.flatten(),color='red',label='Regression line')\n",
    "plt.xlabel('start_hour')\n",
    "plt.ylabel('trip_duration(seconds)')\n",
    "plt.title('Linear Regression: Start Hour vs Trip Duration')\n",
    "plt.legend()\n",
    "plt.show()"
   ]
  },
  {
   "cell_type": "code",
   "execution_count": 739,
   "id": "1bb63045-39b8-4658-bf51-047843400554",
   "metadata": {},
   "outputs": [],
   "source": [
    "# calculate performance metrics\n",
    "mse=mean_squared_error(y_test,y_pred)\n",
    "r2=r2_score(y_test,y_pred)"
   ]
  },
  {
   "cell_type": "code",
   "execution_count": 740,
   "id": "71c33c43-e5d8-4924-8c12-6447f54c36b5",
   "metadata": {},
   "outputs": [
    {
     "data": {
      "text/plain": [
       "(329922.8999558783, 0.0033462152226002573)"
      ]
     },
     "execution_count": 740,
     "metadata": {},
     "output_type": "execute_result"
    }
   ],
   "source": [
    "mse,r2"
   ]
  },
  {
   "cell_type": "markdown",
   "id": "2378e5ad-93b5-48cd-a5d9-97e7e796c546",
   "metadata": {},
   "source": [
    "# The models performence metrics are :\n",
    "Mean Squared Error(MSE): 329922\n",
    "R2 Score: 0.0033(very close to zero)"
   ]
  },
  {
   "cell_type": "markdown",
   "id": "1a54c035-a148-4395-84e9-a68a26a07dc0",
   "metadata": {
    "jp-MarkdownHeadingCollapsed": true
   },
   "source": [
    "# Observation:\n",
    "The regression line suggests a weak or negligible relationship between start hour and trip duration. The very low R2 value indicates that start hour does not explain much of the variation in trip duration."
   ]
  },
  {
   "cell_type": "markdown",
   "id": "31c89e60-5814-420f-91b0-80d223729faf",
   "metadata": {},
   "source": [
    "# Compare the actual vs predicted values in a dataframe"
   ]
  },
  {
   "cell_type": "code",
   "execution_count": 744,
   "id": "96c69433-f79b-45e0-829a-f4cb674378e2",
   "metadata": {},
   "outputs": [],
   "source": [
    "# Create a dataframe comparing actual and predicted values\n",
    "comparison_df=pd.DataFrame({'Actual Trip Duration':y_test.flatten(),'Predicted Trip Duration':y_pred.flatten()})"
   ]
  },
  {
   "cell_type": "code",
   "execution_count": 745,
   "id": "516a7594-731c-47a9-9599-a0317e0ddf55",
   "metadata": {},
   "outputs": [
    {
     "data": {
      "text/html": [
       "<div>\n",
       "<style scoped>\n",
       "    .dataframe tbody tr th:only-of-type {\n",
       "        vertical-align: middle;\n",
       "    }\n",
       "\n",
       "    .dataframe tbody tr th {\n",
       "        vertical-align: top;\n",
       "    }\n",
       "\n",
       "    .dataframe thead th {\n",
       "        text-align: right;\n",
       "    }\n",
       "</style>\n",
       "<table border=\"1\" class=\"dataframe\">\n",
       "  <thead>\n",
       "    <tr style=\"text-align: right;\">\n",
       "      <th></th>\n",
       "      <th>Actual Trip Duration</th>\n",
       "      <th>Predicted Trip Duration</th>\n",
       "    </tr>\n",
       "  </thead>\n",
       "  <tbody>\n",
       "    <tr>\n",
       "      <th>0</th>\n",
       "      <td>680</td>\n",
       "      <td>855.190449</td>\n",
       "    </tr>\n",
       "    <tr>\n",
       "      <th>1</th>\n",
       "      <td>578</td>\n",
       "      <td>851.114447</td>\n",
       "    </tr>\n",
       "    <tr>\n",
       "      <th>2</th>\n",
       "      <td>1221</td>\n",
       "      <td>863.342451</td>\n",
       "    </tr>\n",
       "    <tr>\n",
       "      <th>3</th>\n",
       "      <td>2331</td>\n",
       "      <td>834.810443</td>\n",
       "    </tr>\n",
       "    <tr>\n",
       "      <th>4</th>\n",
       "      <td>364</td>\n",
       "      <td>818.506438</td>\n",
       "    </tr>\n",
       "    <tr>\n",
       "      <th>5</th>\n",
       "      <td>466</td>\n",
       "      <td>863.342451</td>\n",
       "    </tr>\n",
       "    <tr>\n",
       "      <th>6</th>\n",
       "      <td>272</td>\n",
       "      <td>834.810443</td>\n",
       "    </tr>\n",
       "    <tr>\n",
       "      <th>7</th>\n",
       "      <td>546</td>\n",
       "      <td>851.114447</td>\n",
       "    </tr>\n",
       "    <tr>\n",
       "      <th>8</th>\n",
       "      <td>85</td>\n",
       "      <td>859.266450</td>\n",
       "    </tr>\n",
       "    <tr>\n",
       "      <th>9</th>\n",
       "      <td>476</td>\n",
       "      <td>814.430437</td>\n",
       "    </tr>\n",
       "    <tr>\n",
       "      <th>10</th>\n",
       "      <td>643</td>\n",
       "      <td>855.190449</td>\n",
       "    </tr>\n",
       "    <tr>\n",
       "      <th>11</th>\n",
       "      <td>1157</td>\n",
       "      <td>859.266450</td>\n",
       "    </tr>\n",
       "    <tr>\n",
       "      <th>12</th>\n",
       "      <td>764</td>\n",
       "      <td>822.582439</td>\n",
       "    </tr>\n",
       "    <tr>\n",
       "      <th>13</th>\n",
       "      <td>2121</td>\n",
       "      <td>834.810443</td>\n",
       "    </tr>\n",
       "    <tr>\n",
       "      <th>14</th>\n",
       "      <td>416</td>\n",
       "      <td>838.886444</td>\n",
       "    </tr>\n",
       "    <tr>\n",
       "      <th>15</th>\n",
       "      <td>917</td>\n",
       "      <td>838.886444</td>\n",
       "    </tr>\n",
       "    <tr>\n",
       "      <th>16</th>\n",
       "      <td>487</td>\n",
       "      <td>851.114447</td>\n",
       "    </tr>\n",
       "    <tr>\n",
       "      <th>17</th>\n",
       "      <td>1701</td>\n",
       "      <td>867.418452</td>\n",
       "    </tr>\n",
       "    <tr>\n",
       "      <th>18</th>\n",
       "      <td>482</td>\n",
       "      <td>834.810443</td>\n",
       "    </tr>\n",
       "    <tr>\n",
       "      <th>19</th>\n",
       "      <td>1068</td>\n",
       "      <td>851.114447</td>\n",
       "    </tr>\n",
       "    <tr>\n",
       "      <th>20</th>\n",
       "      <td>205</td>\n",
       "      <td>855.190449</td>\n",
       "    </tr>\n",
       "    <tr>\n",
       "      <th>21</th>\n",
       "      <td>588</td>\n",
       "      <td>838.886444</td>\n",
       "    </tr>\n",
       "    <tr>\n",
       "      <th>22</th>\n",
       "      <td>674</td>\n",
       "      <td>838.886444</td>\n",
       "    </tr>\n",
       "    <tr>\n",
       "      <th>23</th>\n",
       "      <td>819</td>\n",
       "      <td>842.962445</td>\n",
       "    </tr>\n",
       "    <tr>\n",
       "      <th>24</th>\n",
       "      <td>474</td>\n",
       "      <td>814.430437</td>\n",
       "    </tr>\n",
       "    <tr>\n",
       "      <th>25</th>\n",
       "      <td>252</td>\n",
       "      <td>810.354435</td>\n",
       "    </tr>\n",
       "    <tr>\n",
       "      <th>26</th>\n",
       "      <td>215</td>\n",
       "      <td>842.962445</td>\n",
       "    </tr>\n",
       "    <tr>\n",
       "      <th>27</th>\n",
       "      <td>578</td>\n",
       "      <td>863.342451</td>\n",
       "    </tr>\n",
       "    <tr>\n",
       "      <th>28</th>\n",
       "      <td>377</td>\n",
       "      <td>863.342451</td>\n",
       "    </tr>\n",
       "    <tr>\n",
       "      <th>29</th>\n",
       "      <td>530</td>\n",
       "      <td>830.734441</td>\n",
       "    </tr>\n",
       "  </tbody>\n",
       "</table>\n",
       "</div>"
      ],
      "text/plain": [
       "    Actual Trip Duration  Predicted Trip Duration\n",
       "0                    680               855.190449\n",
       "1                    578               851.114447\n",
       "2                   1221               863.342451\n",
       "3                   2331               834.810443\n",
       "4                    364               818.506438\n",
       "5                    466               863.342451\n",
       "6                    272               834.810443\n",
       "7                    546               851.114447\n",
       "8                     85               859.266450\n",
       "9                    476               814.430437\n",
       "10                   643               855.190449\n",
       "11                  1157               859.266450\n",
       "12                   764               822.582439\n",
       "13                  2121               834.810443\n",
       "14                   416               838.886444\n",
       "15                   917               838.886444\n",
       "16                   487               851.114447\n",
       "17                  1701               867.418452\n",
       "18                   482               834.810443\n",
       "19                  1068               851.114447\n",
       "20                   205               855.190449\n",
       "21                   588               838.886444\n",
       "22                   674               838.886444\n",
       "23                   819               842.962445\n",
       "24                   474               814.430437\n",
       "25                   252               810.354435\n",
       "26                   215               842.962445\n",
       "27                   578               863.342451\n",
       "28                   377               863.342451\n",
       "29                   530               830.734441"
      ]
     },
     "execution_count": 745,
     "metadata": {},
     "output_type": "execute_result"
    }
   ],
   "source": [
    "# Display the first few rows\n",
    "comparison_df.head(30)"
   ]
  },
  {
   "cell_type": "markdown",
   "id": "5de9f2e0-1ad9-4396-b556-66e44f668e3e",
   "metadata": {},
   "source": [
    "# Observation: \n",
    "  Based on the calculated metrics; \n",
    " MSE: The MSE is quite high (329922),indicating that the models predictions are significantly deviating from the actual values.This suggest a lack of      precision in predicting trip duration based on start hour.\n",
    " R2 : with an R2 of 0.0033, the model explains very little of the variablity in trip duration.Essencially ,start hour is not a strong predictor for        trip duration in this dataset.\n",
    "  These results imply that the linear regression model struggled to establish a meaningful relationship between the independent variable and the dependent variable.It may be necessary to to explore additional features or use a different type of regression model to improve accuracy. \n",
    "  "
   ]
  },
  {
   "cell_type": "markdown",
   "id": "97e30e0a-a38b-4402-99db-f9fd4ed6069f",
   "metadata": {},
   "source": [
    "# Reflections on data bias:\n",
    "\n",
    " Possible  sources of bias in the data could include;\n",
    "  1. Limited Scope: The dataset is specific to citibike trips , meaning it may not generalize well to other transportation scenarios.This could limit the models's predictive power for broader applications.\n",
    "  2. Temporal and geographic factors: Factors like weather conditions or specific day of week patterns might influence trip duration but are not accounted for in the model.\n",
    "  3. Imputation of missing values: filling missing values for age and birth year with the median might over simplify the data distribution, introducing bias in the demographic features.\n",
    "\n",
    "\n",
    "     "
   ]
  }
 ],
 "metadata": {
  "kernelspec": {
   "display_name": "Python 3 (ipykernel)",
   "language": "python",
   "name": "python3"
  },
  "language_info": {
   "codemirror_mode": {
    "name": "ipython",
    "version": 3
   },
   "file_extension": ".py",
   "mimetype": "text/x-python",
   "name": "python",
   "nbconvert_exporter": "python",
   "pygments_lexer": "ipython3",
   "version": "3.12.4"
  }
 },
 "nbformat": 4,
 "nbformat_minor": 5
}
